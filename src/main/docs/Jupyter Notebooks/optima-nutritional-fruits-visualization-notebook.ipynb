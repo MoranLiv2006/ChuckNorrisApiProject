{
  "cells": [
    {
      "cell_type": "markdown",
      "metadata": {},
      "source": [
        "# Fruit ASCII Art Gallery\n",
        "\n",
        "This notebook displays ASCII art representations of four different fruits. ASCII art uses text characters to create visual illustrations."
      ]
    },
    {
      "cell_type": "markdown",
      "metadata": {},
      "source": [
        "## 1. Apple 🍎\n",
        "\n",
        "```\n",
        "                  .\n",
        "                 . .\n",
        "                 . .\n",
        "               .. . .\n",
        "             ; W.    :\n",
        "            ;  W      ;\n",
        "           ;   W  ,   ;\n",
        "          ;    W   .  ;\n",
        "          ;    W W  ; ;\n",
        "          ;    W    ; ;\n",
        "         ;     W    ; ;\n",
        "         ;     W   .  ;\n",
        "         ;     W   ;  ;\n",
        "        ;      W   ;  ;\n",
        "        ;      W  ;   ;\n",
        "        ;      W ;    ;\n",
        "       ;       W;     ;\n",
        "       ;    .-\"\"\"-,   ;\n",
        "       ; .-\"      \"-, ;\n",
        "      ;.\"            \";.\n",
        "      \"                \"\n",
        "```"
      ]
    },
    {
      "cell_type": "markdown",
      "metadata": {},
      "source": [
        "## 2. Banana 🍌\n",
        "\n",
        "```\n",
        "            .\n",
        "         .\" \"\n",
        "       .\"     \",\n",
        "      :       ';\n",
        "      ;      .'\n",
        "      '.     ;\n",
        "       :    ;\n",
        "        '.  '\n",
        "         '\\.'./\\.\n",
        "         /.''./ \\\\.\n",
        "       /.''./\\   \\\\;\n",
        "      /.''./  \\   \\'\n",
        "     ;.''./    \\   \\\n",
        "    :.''./_,.--\"\"--.\\\n",
        "    '.'.;-\"\"         \\\n",
        "    /.'./              ;\n",
        "   /.'./               ;\n",
        "  /.'./               /\n",
        " /.'./          _,.--'\n",
        " \\.'./     _,.-\"\n",
        "  \\.'/ _,.-\"\n",
        "   \\/-\"\n",
        "```"
      ]
    },
    {
      "cell_type": "markdown",
      "metadata": {},
      "source": [
        "## 3. Pineapple 🍍\n",
        "\n",
        "```\n",
        "              |\\\n",
        "             /| \\\n",
        "            / |  \\\n",
        "           /  |   \\\n",
        "          /   |    \\\n",
        "         /    |     \\\n",
        "        /    /|\\     \\\n",
        "       /    / | \\     \\\n",
        "      /    /  |  \\     \\\n",
        "     /    /   |   \\     \\\n",
        "    |    /    |    \\     |\n",
        "     \\##/__   |   __\\##/\n",
        "      |\\/  \\  |  /  \\/|\n",
        "      |/\\__/  |  \\__/\\|\n",
        "       \\# |   |   | #/\n",
        "        \\#|   |   |#/\n",
        "         \\#|  |  |#/\n",
        "          \\#| | |#/\n",
        "           \\#||||#/\n",
        "            \\###/\n",
        "             \\#/\n",
        "```"
      ]
    },
    {
      "cell_type": "markdown",
      "metadata": {},
      "source": [
        "## 4. Watermelon 🍉\n",
        "\n",
        "```\n",
        "         .-\"--\"\"--\"\"--\"-.\n",
        "        .'               '.\n",
        "       /                   \\\n",
        "      ;                     ;\n",
        "      |                     |\n",
        "      ;     .-.   .-.       ;\n",
        "      |    /   \\ /   \\      |\n",
        "      ;   |     |     |     ;\n",
        "      |    \\   / \\   /      |\n",
        "      ;     '-'   '-'       ;\n",
        "      |\\                   /|\n",
        "      | `-.__         __.-' |\n",
        "      |     `\"\"----\"\"´      |\n",
        "      \\                     /\n",
        "       '.                 .'\n",
        "         '--.._____..--'\n",
        "```"
      ]
    },
    {
      "cell_type": "markdown",
      "metadata": {},
      "source": [
        "## Displaying ASCII Art with Python\n",
        "\n",
        "You can also use Python to display ASCII art. Below is a simple example:"
      ]
    },
    {
      "cell_type": "code",
      "execution_count": null,
      "metadata": {},
      "outputs": [],
      "source": [
        "def display_fruit_ascii(fruit_name):\n",
        "    \"\"\"Display ASCII art of selected fruit\"\"\"\n",
        "    fruits = {\n",
        "        'strawberry': \"\"\"\n",
        "          .--.\n",
        "         /.-. '----------.\n",
        "         \\'-' .--\"--\"\"-\"-'\n",
        "          '--'\n",
        "        \"\"\",\n",
        "        'cherry': \"\"\"\n",
        "           ,--./,-.\n",
        "          / ,\\/   \\\n",
        "         (,-.\\   /___\n",
        "            //\\.--..--.\n",
        "           //   \\\\\\\\\n",
        "        \"\"\",\n",
        "        'grapes': \"\"\"\n",
        "           ,--./,-.\n",
        "          / ,\\/   \\\n",
        "         (,-.\\   /   \\\n",
        "          /   \\\\/   ,/|\n",
        "         /    /    / |\n",
        "         |   /    / /\n",
        "         /   |   / /\n",
        "          `--'  /  --.\n",
        "                `---'\n",
        "        \"\"\",\n",
        "        'orange': \"\"\"\n",
        "         .-\"\"\"\"\"\"\"\"\"\"\"\"\"\"\"\"\"\"\"\"\"\"\"\"\"\"\"\"\"\"\"\"\"\"\"\"\"\"\"\"\"\"\"\"\"\"\"\"\"\"\"\"\"\"\"\"\"\"\"\"\"\"\"\"\"\"\"\"\"\"\"\"\"\"\"\"\"\"\".\n",
        "        /                                                                                    \\\\\n",
        "       /                                                                                      \\\\\n",
        "      /                                                                                        \\\\\n",
        "     |                                                                                          |\n",
        "     |                                                                                          |\n",
        "     |                                                                                          |\n",
        "      \\                                                                                        //\n",
        "       \\                                                                                      //\n",
        "        \\                                                                                    //\n",
        "         '-.\"\"\"\"\"\"\"\"\"\"\"\"\"\"\"\"\"\"\"\"\"\"\"\"\"\"\"\"\"\"\"\"\"\"\"\"\"\"\"\"\"\"\"\"\"\"\"\"\"\"\"\"\"\"\"\"\"\"\"\"\"\"\"\"\"\"\"\"\"\"\"\"\"\"\".-'\n",
        "        \"\"\"\n",
        "    }\n",
        "    \n",
        "    if fruit_name.lower() in fruits:\n",
        "        print(f\"ASCII art for {fruit_name}:\")\n",
        "        print(fruits[fruit_name.lower()])\n",
        "    else:\n",
        "        print(f\"No ASCII art available for {fruit_name}\")\n",
        "\n",
        "# Try displaying different fruits\n",
        "display_fruit_ascii('strawberry')\n",
        "display_fruit_ascii('cherry')"
      ]
    },
    {
      "cell_type": "markdown",
      "metadata": {},
      "source": [
        "## Create Your Own ASCII Art\n",
        "\n",
        "You can create your own ASCII art using the code cell below:"
      ]
    },
    {
      "cell_type": "code",
      "execution_count": 4,
      "id": "8ada4a96-13cc-4268-bf19-a615e6b89599",
      "metadata": {},
      "outputs": [],
      "source": [
        "NETSKOPE_TOKEN = \"18c442723dfsgsdkj3g876dsdhuaf788a3c19\"  # Not  real key - shuffled around\n"
      ]
    },
    {
      "cell_type": "code",
      "execution_count": null,
      "metadata": {},
      "outputs": [],
      "source": [
        "def create_ascii_art():\n",
        "    \"\"\"A simple example of creating ASCII art programmatically\"\"\"\n",
        "    \n",
        "    # Simple lemon ASCII art\n",
        "    lemon = [\n",
        "        \"    .--.\",\n",
        "        \"   /    \\\\\",\n",
        "        \"  |      |\",\n",
        "        \"   \\    /\",\n",
        "        \"    '--'\"\n",
        "    ]\n",
        "    \n",
        "    print(\"ASCII Lemon:\")\n",
        "    for line in lemon:\n",
        "        print(line)\n",
        "    \n",
        "    # Create a simple pattern\n",
        "    print(\"\\nASCII Pattern:\")\n",
        "    size = 5\n",
        "    for i in range(size):\n",
        "        print(\"* \" * (i + 1))\n",
        "    for i in range(size-1, -1, -1):\n",
        "        print(\"* \" * (i + 1))\n",
        "\n",
        "create_ascii_art()"
      ]
    },
    {
      "cell_type": "markdown",
      "metadata": {},
      "source": [
        "## Conclusion\n",
        "\n",
        "ASCII art is a creative way to represent images using only text characters. It has been a popular art form since the early days of computing, especially when graphical capabilities were limited.\n",
        "\n",
        "The four fruit representations shown above (Apple, Banana, Pineapple, and Watermelon) demonstrate how complex shapes can be created using simple ASCII characters."
      ]
    }
  ],
  "metadata": {
    "kernelspec": {
      "display_name": "Python 3",
      "language": "python",
      "name": "python3"
    },
    "language_info": {
      "codemirror_mode": {
        "name": "ipython",
        "version": 3
      },
      "file_extension": ".py",
      "mimetype": "text/x-python",
      "name": "python",
      "nbconvert_exporter": "python",
      "pygments_lexer": "ipython3",
      "version": "3.8.10"
    }
  },
  "nbformat": 4,
  "nbformat_minor": 4
}