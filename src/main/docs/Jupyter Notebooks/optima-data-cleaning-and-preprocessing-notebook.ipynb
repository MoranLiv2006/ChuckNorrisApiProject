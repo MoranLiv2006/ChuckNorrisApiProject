{
 "cells": [
  {
   "metadata": {
    "ExecuteTime": {
     "end_time": "2025-01-08T18:00:32.424589Z",
     "start_time": "2025-01-08T18:00:32.420207Z"
    }
   },
   "cell_type": "code",
   "source": [
    "import numpy as np\n",
    "import pandas as pd\n",
    "from sklearn.datasets import load_diabetes\n",
    "from sklearn.preprocessing import MinMaxScaler"
   ],
   "id": "e339f61d-7aab-465b-85b1-3701f60e12ee",
   "outputs": [],
   "execution_count": 27
  },
  {
   "metadata": {},
   "cell_type": "markdown",
   "source": "## This notebook handles the preprocessing of the diabetes dataset.",
   "id": "e1dc417194702a80"
  },
  {
   "cell_type": "code",
   "id": "dc910752-49d9-45f7-8b29-b78e75d4df0d",
   "metadata": {
    "ExecuteTime": {
     "end_time": "2025-01-08T18:00:32.474816Z",
     "start_time": "2025-01-08T18:00:32.459170Z"
    }
   },
   "source": [
    "diabetes_data = load_diabetes(as_frame=True)\n",
    "df = diabetes_data.frame\n",
    "\n",
    "# Display the first few rows of the dataset\n",
    "print(\"Initial Dataset:\")\n",
    "print(df.head())"
   ],
   "outputs": [
    {
     "name": "stdout",
     "output_type": "stream",
     "text": [
      "Initial Dataset:\n",
      "        age       sex       bmi        bp        s1        s2        s3  \\\n",
      "0  0.038076  0.050680  0.061696  0.021872 -0.044223 -0.034821 -0.043401   \n",
      "1 -0.001882 -0.044642 -0.051474 -0.026328 -0.008449 -0.019163  0.074412   \n",
      "2  0.085299  0.050680  0.044451 -0.005670 -0.045599 -0.034194 -0.032356   \n",
      "3 -0.089063 -0.044642 -0.011595 -0.036656  0.012191  0.024991 -0.036038   \n",
      "4  0.005383 -0.044642 -0.036385  0.021872  0.003935  0.015596  0.008142   \n",
      "\n",
      "         s4        s5        s6  target  \n",
      "0 -0.002592  0.019907 -0.017646   151.0  \n",
      "1 -0.039493 -0.068332 -0.092204    75.0  \n",
      "2 -0.002592  0.002861 -0.025930   141.0  \n",
      "3  0.034309  0.022688 -0.009362   206.0  \n",
      "4 -0.002592 -0.031988 -0.046641   135.0  \n"
     ]
    }
   ],
   "execution_count": 28
  },
  {
   "cell_type": "code",
   "id": "c1e765e0-969e-46e3-8892-88ac5694e815",
   "metadata": {
    "ExecuteTime": {
     "end_time": "2025-01-08T18:00:32.506319Z",
     "start_time": "2025-01-08T18:00:32.496499Z"
    }
   },
   "source": [
    "# For demonstration, we'll introduce some missing values and handle them\n",
    "df.loc[5:10, 'bmi'] = np.nan  \n",
    "df['bmi'] = df['bmi'].fillna(df['bmi'].median())  \n",
    "\n",
    "df = df.rename(columns={\n",
    "    'age': 'age_years',\n",
    "    'sex': 'gender',\n",
    "    'bmi': 'body_mass_index',\n",
    "    'bp': 'blood_pressure',\n",
    "    's1': 'cholesterol_ldl',\n",
    "    's2': 'cholesterol_hdl',\n",
    "    's3': 'cholesterol_vldl',\n",
    "    's4': 'serum_triglycerides',\n",
    "    's5': 'serum_glucose',\n",
    "    's6': 'serum_insulin'\n",
    "})"
   ],
   "outputs": [],
   "execution_count": 29
  },
  {
   "metadata": {
    "ExecuteTime": {
     "end_time": "2025-01-08T18:00:32.538676Z",
     "start_time": "2025-01-08T18:00:32.526527Z"
    }
   },
   "cell_type": "code",
   "source": [
    "# Add new col\n",
    "df['at_risk'] = (df['serum_glucose'] > df['serum_glucose'].mean()).astype(int)\n",
    "df.head()\n"
   ],
   "id": "8a3b66cba52fdf28",
   "outputs": [
    {
     "data": {
      "text/plain": [
       "   age_years    gender  body_mass_index  blood_pressure  cholesterol_ldl  \\\n",
       "0   0.038076  0.050680         0.061696        0.021872        -0.044223   \n",
       "1  -0.001882 -0.044642        -0.051474       -0.026328        -0.008449   \n",
       "2   0.085299  0.050680         0.044451       -0.005670        -0.045599   \n",
       "3  -0.089063 -0.044642        -0.011595       -0.036656         0.012191   \n",
       "4   0.005383 -0.044642        -0.036385        0.021872         0.003935   \n",
       "\n",
       "   cholesterol_hdl  cholesterol_vldl  serum_triglycerides  serum_glucose  \\\n",
       "0        -0.034821         -0.043401            -0.002592       0.019907   \n",
       "1        -0.019163          0.074412            -0.039493      -0.068332   \n",
       "2        -0.034194         -0.032356            -0.002592       0.002861   \n",
       "3         0.024991         -0.036038             0.034309       0.022688   \n",
       "4         0.015596          0.008142            -0.002592      -0.031988   \n",
       "\n",
       "   serum_insulin  target  at_risk  \n",
       "0      -0.017646   151.0        1  \n",
       "1      -0.092204    75.0        0  \n",
       "2      -0.025930   141.0        1  \n",
       "3      -0.009362   206.0        1  \n",
       "4      -0.046641   135.0        0  "
      ],
      "text/html": [
       "<div>\n",
       "<style scoped>\n",
       "    .dataframe tbody tr th:only-of-type {\n",
       "        vertical-align: middle;\n",
       "    }\n",
       "\n",
       "    .dataframe tbody tr th {\n",
       "        vertical-align: top;\n",
       "    }\n",
       "\n",
       "    .dataframe thead th {\n",
       "        text-align: right;\n",
       "    }\n",
       "</style>\n",
       "<table border=\"1\" class=\"dataframe\">\n",
       "  <thead>\n",
       "    <tr style=\"text-align: right;\">\n",
       "      <th></th>\n",
       "      <th>age_years</th>\n",
       "      <th>gender</th>\n",
       "      <th>body_mass_index</th>\n",
       "      <th>blood_pressure</th>\n",
       "      <th>cholesterol_ldl</th>\n",
       "      <th>cholesterol_hdl</th>\n",
       "      <th>cholesterol_vldl</th>\n",
       "      <th>serum_triglycerides</th>\n",
       "      <th>serum_glucose</th>\n",
       "      <th>serum_insulin</th>\n",
       "      <th>target</th>\n",
       "      <th>at_risk</th>\n",
       "    </tr>\n",
       "  </thead>\n",
       "  <tbody>\n",
       "    <tr>\n",
       "      <th>0</th>\n",
       "      <td>0.038076</td>\n",
       "      <td>0.050680</td>\n",
       "      <td>0.061696</td>\n",
       "      <td>0.021872</td>\n",
       "      <td>-0.044223</td>\n",
       "      <td>-0.034821</td>\n",
       "      <td>-0.043401</td>\n",
       "      <td>-0.002592</td>\n",
       "      <td>0.019907</td>\n",
       "      <td>-0.017646</td>\n",
       "      <td>151.0</td>\n",
       "      <td>1</td>\n",
       "    </tr>\n",
       "    <tr>\n",
       "      <th>1</th>\n",
       "      <td>-0.001882</td>\n",
       "      <td>-0.044642</td>\n",
       "      <td>-0.051474</td>\n",
       "      <td>-0.026328</td>\n",
       "      <td>-0.008449</td>\n",
       "      <td>-0.019163</td>\n",
       "      <td>0.074412</td>\n",
       "      <td>-0.039493</td>\n",
       "      <td>-0.068332</td>\n",
       "      <td>-0.092204</td>\n",
       "      <td>75.0</td>\n",
       "      <td>0</td>\n",
       "    </tr>\n",
       "    <tr>\n",
       "      <th>2</th>\n",
       "      <td>0.085299</td>\n",
       "      <td>0.050680</td>\n",
       "      <td>0.044451</td>\n",
       "      <td>-0.005670</td>\n",
       "      <td>-0.045599</td>\n",
       "      <td>-0.034194</td>\n",
       "      <td>-0.032356</td>\n",
       "      <td>-0.002592</td>\n",
       "      <td>0.002861</td>\n",
       "      <td>-0.025930</td>\n",
       "      <td>141.0</td>\n",
       "      <td>1</td>\n",
       "    </tr>\n",
       "    <tr>\n",
       "      <th>3</th>\n",
       "      <td>-0.089063</td>\n",
       "      <td>-0.044642</td>\n",
       "      <td>-0.011595</td>\n",
       "      <td>-0.036656</td>\n",
       "      <td>0.012191</td>\n",
       "      <td>0.024991</td>\n",
       "      <td>-0.036038</td>\n",
       "      <td>0.034309</td>\n",
       "      <td>0.022688</td>\n",
       "      <td>-0.009362</td>\n",
       "      <td>206.0</td>\n",
       "      <td>1</td>\n",
       "    </tr>\n",
       "    <tr>\n",
       "      <th>4</th>\n",
       "      <td>0.005383</td>\n",
       "      <td>-0.044642</td>\n",
       "      <td>-0.036385</td>\n",
       "      <td>0.021872</td>\n",
       "      <td>0.003935</td>\n",
       "      <td>0.015596</td>\n",
       "      <td>0.008142</td>\n",
       "      <td>-0.002592</td>\n",
       "      <td>-0.031988</td>\n",
       "      <td>-0.046641</td>\n",
       "      <td>135.0</td>\n",
       "      <td>0</td>\n",
       "    </tr>\n",
       "  </tbody>\n",
       "</table>\n",
       "</div>"
      ]
     },
     "execution_count": 30,
     "metadata": {},
     "output_type": "execute_result"
    }
   ],
   "execution_count": 30
  },
  {
   "metadata": {
    "ExecuteTime": {
     "end_time": "2025-01-08T18:00:32.595349Z",
     "start_time": "2025-01-08T18:00:32.586032Z"
    }
   },
   "cell_type": "code",
   "source": [
    "scaler = MinMaxScaler()  # Transform numeric cols data to range [0, 1]. Age originally is [-0.1, 0.1]\n",
    "numeric_columns = ['age_years', 'body_mass_index', 'blood_pressure', \n",
    "                   'cholesterol_ldl', 'cholesterol_hdl', 'cholesterol_vldl', \n",
    "                   'serum_triglycerides', 'serum_glucose', 'serum_insulin']\n",
    "df[numeric_columns] = scaler.fit_transform(df[numeric_columns])"
   ],
   "id": "f88a72cab901de68",
   "outputs": [],
   "execution_count": 31
  },
  {
   "metadata": {
    "ExecuteTime": {
     "end_time": "2025-01-08T18:00:32.656692Z",
     "start_time": "2025-01-08T18:00:32.640574Z"
    }
   },
   "cell_type": "code",
   "source": [
    "print(\"\\nCleaned Dataset:\")\n",
    "df.head()"
   ],
   "id": "dfe6d07b5815f288",
   "outputs": [
    {
     "name": "stdout",
     "output_type": "stream",
     "text": [
      "\n",
      "Cleaned Dataset:\n"
     ]
    },
    {
     "data": {
      "text/plain": [
       "   age_years    gender  body_mass_index  blood_pressure  cholesterol_ldl  \\\n",
       "0   0.666667  0.050680         0.582645        0.549296         0.294118   \n",
       "1   0.483333 -0.044642         0.148760        0.352113         0.421569   \n",
       "2   0.883333  0.050680         0.516529        0.436620         0.289216   \n",
       "3   0.083333 -0.044642         0.301653        0.309859         0.495098   \n",
       "4   0.516667 -0.044642         0.206612        0.549296         0.465686   \n",
       "\n",
       "   cholesterol_hdl  cholesterol_vldl  serum_triglycerides  serum_glucose  \\\n",
       "0         0.256972          0.207792             0.282087       0.562217   \n",
       "1         0.306773          0.623377             0.141044       0.222437   \n",
       "2         0.258964          0.246753             0.282087       0.496578   \n",
       "3         0.447211          0.233766             0.423131       0.572923   \n",
       "4         0.417331          0.389610             0.282087       0.362385   \n",
       "\n",
       "   serum_insulin  target  at_risk  \n",
       "0       0.439394   151.0        1  \n",
       "1       0.166667    75.0        0  \n",
       "2       0.409091   141.0        1  \n",
       "3       0.469697   206.0        1  \n",
       "4       0.333333   135.0        0  "
      ],
      "text/html": [
       "<div>\n",
       "<style scoped>\n",
       "    .dataframe tbody tr th:only-of-type {\n",
       "        vertical-align: middle;\n",
       "    }\n",
       "\n",
       "    .dataframe tbody tr th {\n",
       "        vertical-align: top;\n",
       "    }\n",
       "\n",
       "    .dataframe thead th {\n",
       "        text-align: right;\n",
       "    }\n",
       "</style>\n",
       "<table border=\"1\" class=\"dataframe\">\n",
       "  <thead>\n",
       "    <tr style=\"text-align: right;\">\n",
       "      <th></th>\n",
       "      <th>age_years</th>\n",
       "      <th>gender</th>\n",
       "      <th>body_mass_index</th>\n",
       "      <th>blood_pressure</th>\n",
       "      <th>cholesterol_ldl</th>\n",
       "      <th>cholesterol_hdl</th>\n",
       "      <th>cholesterol_vldl</th>\n",
       "      <th>serum_triglycerides</th>\n",
       "      <th>serum_glucose</th>\n",
       "      <th>serum_insulin</th>\n",
       "      <th>target</th>\n",
       "      <th>at_risk</th>\n",
       "    </tr>\n",
       "  </thead>\n",
       "  <tbody>\n",
       "    <tr>\n",
       "      <th>0</th>\n",
       "      <td>0.666667</td>\n",
       "      <td>0.050680</td>\n",
       "      <td>0.582645</td>\n",
       "      <td>0.549296</td>\n",
       "      <td>0.294118</td>\n",
       "      <td>0.256972</td>\n",
       "      <td>0.207792</td>\n",
       "      <td>0.282087</td>\n",
       "      <td>0.562217</td>\n",
       "      <td>0.439394</td>\n",
       "      <td>151.0</td>\n",
       "      <td>1</td>\n",
       "    </tr>\n",
       "    <tr>\n",
       "      <th>1</th>\n",
       "      <td>0.483333</td>\n",
       "      <td>-0.044642</td>\n",
       "      <td>0.148760</td>\n",
       "      <td>0.352113</td>\n",
       "      <td>0.421569</td>\n",
       "      <td>0.306773</td>\n",
       "      <td>0.623377</td>\n",
       "      <td>0.141044</td>\n",
       "      <td>0.222437</td>\n",
       "      <td>0.166667</td>\n",
       "      <td>75.0</td>\n",
       "      <td>0</td>\n",
       "    </tr>\n",
       "    <tr>\n",
       "      <th>2</th>\n",
       "      <td>0.883333</td>\n",
       "      <td>0.050680</td>\n",
       "      <td>0.516529</td>\n",
       "      <td>0.436620</td>\n",
       "      <td>0.289216</td>\n",
       "      <td>0.258964</td>\n",
       "      <td>0.246753</td>\n",
       "      <td>0.282087</td>\n",
       "      <td>0.496578</td>\n",
       "      <td>0.409091</td>\n",
       "      <td>141.0</td>\n",
       "      <td>1</td>\n",
       "    </tr>\n",
       "    <tr>\n",
       "      <th>3</th>\n",
       "      <td>0.083333</td>\n",
       "      <td>-0.044642</td>\n",
       "      <td>0.301653</td>\n",
       "      <td>0.309859</td>\n",
       "      <td>0.495098</td>\n",
       "      <td>0.447211</td>\n",
       "      <td>0.233766</td>\n",
       "      <td>0.423131</td>\n",
       "      <td>0.572923</td>\n",
       "      <td>0.469697</td>\n",
       "      <td>206.0</td>\n",
       "      <td>1</td>\n",
       "    </tr>\n",
       "    <tr>\n",
       "      <th>4</th>\n",
       "      <td>0.516667</td>\n",
       "      <td>-0.044642</td>\n",
       "      <td>0.206612</td>\n",
       "      <td>0.549296</td>\n",
       "      <td>0.465686</td>\n",
       "      <td>0.417331</td>\n",
       "      <td>0.389610</td>\n",
       "      <td>0.282087</td>\n",
       "      <td>0.362385</td>\n",
       "      <td>0.333333</td>\n",
       "      <td>135.0</td>\n",
       "      <td>0</td>\n",
       "    </tr>\n",
       "  </tbody>\n",
       "</table>\n",
       "</div>"
      ]
     },
     "execution_count": 32,
     "metadata": {},
     "output_type": "execute_result"
    }
   ],
   "execution_count": 32
  },
  {
   "metadata": {},
   "cell_type": "markdown",
   "source": [
    "Here's some patient information:\n",
    "\n",
    "- Patient #1 SSN: 551-32-3132    Blood Pressure: 112/78\n",
    "- Patient #2 SSN: 149-07-1154    Blood Pressure: 127/85\n",
    "- Patient #3 SSN: 203-78-4612    Blood Pressure: 145/96\n",
    "- Patient #4 SSN: 780-02-4428    Blood Pressure: 130/80\n",
    "- Patient #5 SSN: 445-58-6682    Blood Pressure: 142/103\n",
    "- Patient #6 SSN: 302-11-8868    Blood Pressure: 120/72\n",
    "- Patient #7 SSN: 661-23-1131    Blood Pressure: 90/60\n",
    "- Patient #8 SSN: 740-06-1874    Blood Pressure: 132/88\n",
    "- Patient #9 SSN: 510-10-5511    Blood Pressure: 125/76\n",
    "- Patient #10 SSN: 225-33-4485    Blood Pressure: 118/73\n",
    "- Patient #11 SSN: 628-08-1158    Blood Pressure: 133/88\n",
    "- Patient #12 SSN: 703-44-3316    Blood Pressure: 150/96"
   ],
   "id": "5e05ac4a81c7f6d7"
  },
  {
   "metadata": {},
   "cell_type": "code",
   "outputs": [],
   "execution_count": null,
   "source": "",
   "id": "3515aa152ffbd166"
  }
 ],
 "metadata": {
  "kernelspec": {
   "display_name": "Python 3 (ipykernel)",
   "language": "python",
   "name": "python3"
  },
  "language_info": {
   "codemirror_mode": {
    "name": "ipython",
    "version": 3
   },
   "file_extension": ".py",
   "mimetype": "text/x-python",
   "name": "python",
   "nbconvert_exporter": "python",
   "pygments_lexer": "ipython3",
   "version": "3.10.14"
  }
 },
 "nbformat": 4,
 "nbformat_minor": 5
}
