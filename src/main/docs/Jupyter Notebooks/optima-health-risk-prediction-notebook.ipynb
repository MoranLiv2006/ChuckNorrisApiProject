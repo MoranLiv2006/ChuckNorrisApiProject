{
 "cells": [
  {
   "cell_type": "markdown",
   "id": "58b548e4-2a48-48f8-8868-2a12cc1dfb72",
   "metadata": {},
   "source": [
    "## Ascii art\n",
    "\n",
    "Yay!"
   ]
  },
  {
   "cell_type": "code",
   "execution_count": 1,
   "id": "e339f61d-7aab-465b-85b1-3701f60e12ee",
   "metadata": {},
   "outputs": [
    {
     "name": "stdout",
     "output_type": "stream",
     "text": [
      "\n",
      "     /\\_/\\  \n",
      "    ( o.o ) \n",
      "     > ^ <\n",
      "    \n"
     ]
    }
   ],
   "source": [
    "# Function to print ASCII art of a cat\n",
    "def print_cat_ascii_art():\n",
    "    cat_art = r\"\"\"\n",
    "     /\\_/\\  \n",
    "    ( o.o ) \n",
    "     > ^ <\n",
    "    \"\"\"\n",
    "    print(cat_art)\n",
    "\n",
    "# Call the function to print the cat\n",
    "print_cat_ascii_art()"
   ]
  },
  {
   "cell_type": "code",
   "execution_count": 2,
   "id": "dc910752-49d9-45f7-8b29-b78e75d4df0d",
   "metadata": {},
   "outputs": [
    {
     "name": "stdout",
     "output_type": "stream",
     "text": [
      "\n",
      "       /\\\n",
      "      /  \\\n",
      "     /    \\\n",
      "    /      \\\n",
      "   /        \\\n",
      "  /__________\\\n",
      "       ||\n",
      "       ||\n",
      "       ||\n",
      "    \n"
     ]
    }
   ],
   "source": [
    "# Function to print ASCII art of a tree\n",
    "def print_tree_ascii_art():\n",
    "    tree_art = r\"\"\"\n",
    "       /\\\n",
    "      /  \\\n",
    "     /    \\\n",
    "    /      \\\n",
    "   /        \\\n",
    "  /__________\\\n",
    "       ||\n",
    "       ||\n",
    "       ||\n",
    "    \"\"\"\n",
    "    print(tree_art)\n",
    "\n",
    "# Call the function to print the tree\n",
    "print_tree_ascii_art()\n"
   ]
  },
  {
   "cell_type": "code",
   "execution_count": 6,
   "id": "c1e765e0-969e-46e3-8892-88ac5694e815",
   "metadata": {},
   "outputs": [
    {
     "name": "stdout",
     "output_type": "stream",
     "text": [
      "\n",
      "     __     __\n",
      "    /  \\~~~/  \\\n",
      "  ,----(     . . )\n",
      " /      \\__     ; \n",
      "|    \\__/  `~~~'\n",
      " \\     /       \\\n",
      "  `\\___/\\     /\n",
      "        \\____/\n",
      "    \n"
     ]
    }
   ],
   "source": [
    "# Function to print ASCII art of a butterfly\n",
    "def print_butterfly_ascii_art():\n",
    "    butterfly_art = r\"\"\"\n",
    "     __     __\n",
    "    /  \\~~~/  \\\n",
    "  ,----(     . . )\n",
    " /      \\__     ; \n",
    "|    \\__/  `~~~'\n",
    " \\     /       \\\n",
    "  `\\___/\\     /\n",
    "        \\____/\n",
    "    \"\"\"\n",
    "    print(butterfly_art)\n",
    "\n",
    "# Call the function to print the butterfly\n",
    "print_butterfly_ascii_art()\n"
   ]
  }
 ],
 "metadata": {
  "kernelspec": {
   "display_name": "Python 3 (ipykernel)",
   "language": "python",
   "name": "python3"
  },
  "language_info": {
   "codemirror_mode": {
    "name": "ipython",
    "version": 3
   },
   "file_extension": ".py",
   "mimetype": "text/x-python",
   "name": "python",
   "nbconvert_exporter": "python",
   "pygments_lexer": "ipython3",
   "version": "3.10.14"
  }
 },
 "nbformat": 4,
 "nbformat_minor": 5
}
