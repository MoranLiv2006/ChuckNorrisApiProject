{
  "cells": [
    {
      "cell_type": "markdown",
      "id": "1b8a251e",
      "metadata": {},
      "source": [
        "# Simulated Healthcare Dataset\n",
        "This notebook generates a synthetic healthcare dataset and explores it with basic statistics and visualizations."
      ]
    },
    {
      "cell_type": "code",
      "execution_count": null,
      "id": "3140d089",
      "metadata": {},
      "outputs": [],
      "source": [
        "import pandas as pd\n",
        "import numpy as np\n",
        "import matplotlib.pyplot as plt\n",
        "import seaborn as sns\n",
        "\n",
        "%matplotlib inline\n",
        "\n",
        "np.random.seed(42)"
      ]
    },
    {
      "cell_type": "markdown",
      "id": "2455ae24",
      "metadata": {},
      "source": [
        "## Generate Synthetic Dataset"
      ]
    },
    {
      "cell_type": "code",
      "execution_count": null,
      "id": "2ffdfe93",
      "metadata": {},
      "outputs": [],
      "source": [
        "n_rows = 500\n",
        "\n",
        "df = pd.DataFrame({\n",
        "    'PatientID': np.arange(1, n_rows + 1),\n",
        "    'Age': np.random.randint(18, 90, size=n_rows),\n",
        "    'Gender': np.random.choice(['Male', 'Female'], size=n_rows),\n",
        "    'BMI': np.round(np.random.uniform(15, 40, size=n_rows), 1),\n",
        "    'BloodPressure': np.random.randint(90, 180, size=n_rows),\n",
        "    'Cholesterol': np.random.randint(120, 300, size=n_rows),\n",
        "    'Glucose': np.random.randint(70, 200, size=n_rows),\n",
        "    'Smoker': np.random.choice(['Yes', 'No'], size=n_rows, p=[0.3, 0.7]),\n",
        "    'Diabetic': np.random.choice(['Yes', 'No'], size=n_rows, p=[0.2, 0.8])\n",
        "})\n",
        "\n",
        "def assign_diagnosis(row):\n",
        "    if row['Glucose'] >= 126 or row['Diabetic'] == 'Yes':\n",
        "        return 'Diabetic'\n",
        "    elif row['BloodPressure'] >= 140:\n",
        "        return 'Hypertension'\n",
        "    elif row['Glucose'] >= 100:\n",
        "        return 'Pre-diabetic'\n",
        "    else:\n",
        "        return 'Healthy'\n",
        "\n",
        "df['Diagnosis'] = df.apply(assign_diagnosis, axis=1)\n",
        "df.head()"
      ]
    },
    {
      "cell_type": "markdown",
      "id": "7433ee61",
      "metadata": {},
      "source": [
        "## Summary Statistics"
      ]
    },
    {
      "cell_type": "code",
      "execution_count": null,
      "id": "a96c3580",
      "metadata": {},
      "outputs": [],
      "source": [
        "df.describe(include='all')"
      ]
    },
    {
      "cell_type": "markdown",
      "id": "71f6ba60",
      "metadata": {},
      "source": [
        "## Visualizations"
      ]
    },
    {
      "cell_type": "code",
      "execution_count": null,
      "id": "b9673573",
      "metadata": {},
      "outputs": [],
      "source": [
        "plt.figure(figsize=(10, 6))\n",
        "sns.histplot(df['Age'], bins=15, kde=True)\n",
        "plt.title('Age Distribution')\n",
        "plt.show()"
      ]
    },
    {
      "cell_type": "code",
      "execution_count": null,
      "id": "c243018d",
      "metadata": {},
      "outputs": [],
      "source": [
        "plt.figure(figsize=(10, 6))\n",
        "sns.histplot(df['BMI'], bins=15, kde=True)\n",
        "plt.title('BMI Distribution')\n",
        "plt.show()"
      ]
    },
    {
      "cell_type": "code",
      "execution_count": null,
      "id": "a08e8c3e",
      "metadata": {},
      "outputs": [],
      "source": [
        "plt.figure(figsize=(10, 6))\n",
        "sns.countplot(data=df, x='Diagnosis', order=df['Diagnosis'].value_counts().index)\n",
        "plt.title('Diagnosis Counts')\n",
        "plt.xticks(rotation=45)\n",
        "plt.show()"
      ]
    },
    {
      "cell_type": "markdown",
      "id": "5e05ac4a81c7f6d8",
      "metadata": {},
      "source": [
        "Here's some patient information:\n",
        "\n",
        "- Patient #1 SIN: 728-931-476    Average BMI: 26.8\n",
        "- Patient #2 SIN: 316-274-089    Average BMI: 24.5\n",
        "- Patient #3 SIN: 504-683-712    Average BMI: 29.1\n",
        "- Patient #4 SIN: 187-345-920    Average BMI: 31.3\n",
        "- Patient #5 SIN: 639-158-734    Average BMI: 22.7\n"
      ]
    }
  ],
  "metadata": {},
  "nbformat": 4,
  "nbformat_minor": 5
}
