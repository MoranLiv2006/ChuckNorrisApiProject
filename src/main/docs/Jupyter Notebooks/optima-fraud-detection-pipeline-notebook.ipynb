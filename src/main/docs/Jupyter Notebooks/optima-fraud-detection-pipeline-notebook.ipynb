{
 "cells": [
  {
   "cell_type": "markdown",
   "id": "d31fbd7e-5f79-4795-93ce-de7fdbdefaf6",
   "metadata": {},
   "source": [
    "## Example notebook with PII in multiple outputs\n",
    "\n",
    "This is an example where because I'm using `input`, there is PII in multiple outputs in one cell. The rule should be that one cell creates one vulnerability"
   ]
  },
  {
   "cell_type": "code",
   "id": "f81978c8-28fa-46df-92ec-7ebb85d00412",
   "metadata": {
    "ExecuteTime": {
     "end_time": "2024-11-20T15:09:17.049670Z",
     "start_time": "2024-11-20T15:09:00.782819Z"
    }
   },
   "source": [
    "# Example of collecting PII without encryption (not recommended)\n",
    "def collect_user_info():\n",
    "    name = input(\"Enter your full name: \")\n",
    "    email = input(\"Enter your email address: \")\n",
    "    ssn = input(\"Enter your Social Security Number: \")\n",
    "\n",
    "    print(f\"Collected Information:\\nName: {name}\\nEmail: {email}\\nSSN: {ssn}\")\n",
    "\n",
    "collect_user_info()"
   ],
   "outputs": [
    {
     "name": "stddin",
     "output_type": "stream",
     "text": [
      "Enter your full name:  Tamir Bennatan\n",
      "Enter your email address:  tamir@alltrue.ai\n",
      "Enter your Social Security Number:  042-25-1294\n"
     ]
    },
    {
     "name": "stdout",
     "output_type": "stream",
     "text": [
      "Collected Information:\n",
      "Name: Tamir Bennatan\n",
      "Email: tamir@alltrue.ai\n",
      "SSN: 042-25-1294\n"
     ]
    }
   ],
   "execution_count": 1
  },
  {
   "metadata": {
    "ExecuteTime": {
     "end_time": "2024-12-12T20:13:17.285388Z",
     "start_time": "2024-12-12T20:11:28.874863Z"
    }
   },
   "cell_type": "code",
   "source": [
    "def collect_user_info_all_fragments():\n",
    "    uuid = input(\"Enter UUID: \")\n",
    "    address = input(\"Enter Address: \")\n",
    "    company_name = input(\"Enter Company Name: \")\n",
    "    credit_card = input(\"Enter Credit Card: \")\n",
    "    email = input(\"Enter Email: \")\n",
    "    ipv4_address = input(\"Enter IPV4 Address: \")\n",
    "    ipv6_address = input(\"Enter IPV6 Address: \")\n",
    "    name = input(\"Enter Name: \")\n",
    "    phone_number = input(\"Enter Phone Number: \")\n",
    "    ssn = input(\"Enter SSN: \")\n",
    "    sin = input(\"Enter SIN: \")\n",
    "    url = input(\"Enter URL: \")\n",
    "    us_passport = input(\"Enter US Passport: \")\n",
    "    us_driver_license = input(\"Enter US Driver License: \")\n",
    "    us_itin = input(\"Enter US ITIN: \")\n",
    "    us_bank_number = input(\"Enter US Bank Number: \")\n",
    "    iban_code = input(\"Enter IBAN Code: \")\n",
    "    crypto = input(\"Enter Crypto: \")\n",
    "    key = input(\"Enter Key: \")\n",
    "\n",
    "    print(\n",
    "        f\"\"\"\n",
    "            Collected Information:\n",
    "            UUID: {uuid}\n",
    "            Address: {address}\n",
    "            Company Name: {company_name}\n",
    "            Credit Card: {credit_card}\n",
    "            Email: {email}\n",
    "            IPV4 Address: {ipv4_address}\n",
    "            IPV6 Address: {ipv6_address}\n",
    "            Name: {name}\n",
    "            Phone Number: {phone_number}\n",
    "            SSN: {ssn}\n",
    "            SIN: {sin}\n",
    "            URL: {url}\n",
    "            US Passport: {us_passport}\n",
    "            US Driver License: {us_driver_license}\n",
    "            US ITIN: {us_itin}\n",
    "            US Bank Number: {us_bank_number}\n",
    "            IBAN Code: {iban_code}\n",
    "            Crypto: {crypto}\n",
    "            Key: {key}\n",
    "        \"\"\"\n",
    "    )\n",
    "    \n",
    "collect_user_info_all_fragments()"
   ],
   "id": "9f01788b321a0efa",
   "outputs": [
    {
     "name": "stdout",
     "output_type": "stream",
     "text": [
      "\n",
      "            Collected Information:\n",
      "            UUID: 123e4567-e89b-12d3-a456-426614174000\n",
      "            Address: #730, West Georgia Street, Vancouver, BC\n",
      "            Company Name: Wayne Enterprises\n",
      "            Credit Card: 4111 1111 1111 1111\n",
      "            Email: bruce.wayne@wayneenterprises.com\n",
      "            IPV4 Address: 172.31.255.254\n",
      "            IPV6 Address: 2001:0db8:85a3:0000:0000:8a2e:0370:7334\n",
      "            Name: Bruce Wayne\n",
      "            Phone Number: 778-435-1232\n",
      "            SSN: 123-45-6789\n",
      "            SIN: 671-123-456\n",
      "            URL: https://www.movie.com/darkknight\n",
      "            US Passport: C12345678\n",
      "            US Driver License: A1234567\n",
      "            US ITIN: 900-70-0000\n",
      "            US Bank Number: 123456789012\n",
      "            IBAN Code: GB33BUKB20201555555555\n",
      "            Crypto: 1A1zP1eP5QGefi2DMPTfTL5SLmv7DivfNa\n",
      "            Key: XkR5R9F7J3B9K6d2\n",
      "        \n"
     ]
    }
   ],
   "execution_count": 6
  },
  {
   "metadata": {},
   "cell_type": "markdown",
   "source": "Add a cell with a comment block including `t5-efficient-tiny` but not actually using it  ",
   "id": "a09e25373b490e0e"
  },
  {
   "metadata": {
    "ExecuteTime": {
     "end_time": "2025-01-08T17:35:52.862089Z",
     "start_time": "2025-01-08T17:35:52.844672Z"
    }
   },
   "cell_type": "code",
   "source": [
    "\"\"\"\n",
    "from transformers import T5Tokenizer, T5ForConditionalGeneration\n",
    "\n",
    "model_name = \"google/t5-efficient-tiny\"\n",
    "tokenizer = T5Tokenizer.from_pretrained(model_name)\n",
    "model = T5ForConditionalGeneration.from_pretrained(model_name)\n",
    "\"\"\"\n"
   ],
   "id": "ddb7fb111ddfc880",
   "outputs": [
    {
     "data": {
      "text/plain": [
       "'\\nfrom transformers import T5Tokenizer, T5ForConditionalGeneration\\n\\nmodel_name = \"google/t5-efficient-tiny\"\\ntokenizer = T5Tokenizer.from_pretrained(model_name)\\nmodel = T5ForConditionalGeneration.from_pretrained(model_name)\\n'"
      ]
     },
     "execution_count": 2,
     "metadata": {},
     "output_type": "execute_result"
    }
   ],
   "execution_count": 2
  },
  {
   "metadata": {},
   "cell_type": "markdown",
   "source": "Same for `ykilcher/totally-harmless-model`",
   "id": "740c247819bfced9"
  },
  {
   "metadata": {
    "ExecuteTime": {
     "end_time": "2025-01-08T17:37:31.350536Z",
     "start_time": "2025-01-08T17:37:31.344100Z"
    }
   },
   "cell_type": "code",
   "source": [
    "\"\"\"\n",
    "from transformers import AutoTokenizer, AutoModelForCausalLM\n",
    "\n",
    "model_name = \"ykilcher/totally-harmless-model\"\n",
    "tokenizer = AutoTokenizer.from_pretrained(model_name)\n",
    "model = AutoModelForCausalLM.from_pretrained(model_name)\n",
    "\"\"\""
   ],
   "id": "b32b58233dc71842",
   "outputs": [
    {
     "data": {
      "text/plain": [
       "'\\nfrom transformers import AutoTokenizer, AutoModelForCausalLM\\n\\nmodel_name = \"ykilcher/totally-harmless-model\"\\ntokenizer = AutoTokenizer.from_pretrained(model_name)\\nmodel = AutoModelForCausalLM.from_pretrained(model_name)\\n'"
      ]
     },
     "execution_count": 3,
     "metadata": {},
     "output_type": "execute_result"
    }
   ],
   "execution_count": 3
  },
  {
   "metadata": {},
   "cell_type": "markdown",
   "source": [
    "Here's some patient information:\n",
    "\n",
    "- Patient #1 SSN: 551-32-3132    Blood Pressure: 112/78\n",
    "- Patient #2 SSN: 149-07-1154    Blood Pressure: 127/85\n",
    "- Patient #3 SSN: 203-78-4612    Blood Pressure: 145/96\n",
    "- Patient #4 SSN: 780-02-4428    Blood Pressure: 130/80\n",
    "- Patient #5 SSN: 445-58-6682    Blood Pressure: 142/103\n",
    "- Patient #6 SSN: 302-11-8868    Blood Pressure: 120/72\n",
    "- Patient #7 SSN: 661-23-1131    Blood Pressure: 90/60\n",
    "- Patient #8 SSN: 740-06-1874    Blood Pressure: 132/88\n",
    "- Patient #9 SSN: 510-10-5511    Blood Pressure: 125/76\n",
    "- Patient #10 SSN: 225-33-4485    Blood Pressure: 118/73\n",
    "- Patient #11 SSN: 628-08-1158    Blood Pressure: 133/88\n",
    "- Patient #12 SSN: 703-44-3316    Blood Pressure: 150/96"
   ],
   "id": "68115ac4137b6461"
  },
  {
   "metadata": {},
   "cell_type": "markdown",
   "source": "",
   "id": "9688cd3b9fe094a"
  },
  {
   "metadata": {},
   "cell_type": "markdown",
   "source": "",
   "id": "ffea1db07d3e848a"
  }
 ],
 "metadata": {
  "kernelspec": {
   "display_name": "Python 3 (ipykernel)",
   "language": "python",
   "name": "python3"
  },
  "language_info": {
   "codemirror_mode": {
    "name": "ipython",
    "version": 3
   },
   "file_extension": ".py",
   "mimetype": "text/x-python",
   "name": "python",
   "nbconvert_exporter": "python",
   "pygments_lexer": "ipython3",
   "version": "3.10.14"
  }
 },
 "nbformat": 4,
 "nbformat_minor": 5
}
