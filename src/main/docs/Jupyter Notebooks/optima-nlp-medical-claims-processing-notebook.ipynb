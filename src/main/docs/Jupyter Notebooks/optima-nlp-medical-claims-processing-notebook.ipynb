{
 "cells": [
  {
   "cell_type": "markdown",
   "id": "c5803019-8cd2-4dc1-84c3-0da3385cc4d8",
   "metadata": {},
   "source": [
    "# Example notebook with secrets and PII\n",
    "\n",
    "## Secrets\n",
    "\n",
    "A common vulnerability with jupyter notebooks is improper handling of secrets. It's common to put the secrets right in the jupyter notebook cells, and since jupyter notebook contents do not typically pass code review, the contents can find themselves on github or other source code managers.\n",
    "\n",
    "This notebook is an example that shows the vulnerability"
   ]
  },
  {
   "cell_type": "code",
   "execution_count": 4,
   "id": "8ada4a96-13cc-4268-bf19-a615e6b89599",
   "metadata": {},
   "outputs": [],
   "source": "OPEN_AI_KEY = \"sk-bBP_fhSH9cT_G5q-CtWtYqzIkuNS3A66c2jEasj0rRT3BlbkFJX1loYRP9p5kVwjpwbN65_LGV_9sUtM3wSOMFOmN-4A\"  # Not  real key - shuffled around\n"
  },
  {
   "cell_type": "code",
   "execution_count": 3,
   "id": "8d5e9d54-da37-4889-8e7f-c580f4fdbd46",
   "metadata": {},
   "outputs": [],
   "source": [
    "import requests\n",
    "\n",
    "def make_openai_call(prompt: str, api_key: str) -> str:\n",
    "    url = \"https://api.openai.com/v1/chat/completions\"\n",
    "    headers = {\n",
    "        \"Authorization\": f\"Bearer {api_key}\",\n",
    "        \"Content-Type\": \"application/json\"\n",
    "    }\n",
    "    payload = {\n",
    "        \"model\": \"gpt-4o-mini\",\n",
    "        \"messages\": [{\"role\": \"user\", \"content\": prompt}],\n",
    "        \"temperature\": 0.7\n",
    "    }\n",
    "    \n",
    "    try:\n",
    "        response = requests.post(url, headers=headers, json=payload)\n",
    "        response.raise_for_status()\n",
    "        data = response.json()\n",
    "        return data[\"choices\"][0][\"message\"][\"content\"].strip()\n",
    "    except requests.RequestException as e:\n",
    "        return f\"An error occurred while requesting the OpenAI API: {e}\"\n",
    "    except KeyError as e:\n",
    "        return f\"Unexpected response structure: {e}\"\n",
    "\n"
   ]
  },
  {
   "cell_type": "code",
   "execution_count": 3,
   "id": "57826504-0de7-487e-bcdf-2d495989a163",
   "metadata": {},
   "outputs": [
    {
     "data": {
      "text/plain": [
       "\"The classic tongue twister suggests that a woodchuck would chuck as much wood as a woodchuck could chuck if it could chuck wood! In a playful interpretation, it's often humorously stated that a woodchuck could chuck about 700 pounds of wood, based on various whimsical calculations. However, in reality, woodchucks (also known as groundhogs) don't actually chuck wood at all!\""
      ]
     },
     "execution_count": 3,
     "metadata": {},
     "output_type": "execute_result"
    }
   ],
   "source": [
    "make_openai_call(\n",
    "    prompt = \"how much wood would a woodchuck chuck if a woodchuck could chuck wood\",\n",
    "    api_key=OPEN_AI_KEY)"
   ]
  },
  {
   "cell_type": "markdown",
   "id": "e93dc6a7-e9c1-42a7-b887-864b0a2eea4e",
   "metadata": {},
   "source": [
    "---\n",
    "\n",
    "## PII\n",
    "\n",
    "Another common issue is that PII is downloaded and used/stored irrepsonsibly. "
   ]
  },
  {
   "cell_type": "markdown",
   "id": "3a7c9d55-b565-4897-898c-91006555c98d",
   "metadata": {},
   "source": [
    "#### Download an example CSV with PII"
   ]
  },
  {
   "cell_type": "code",
   "execution_count": 9,
   "id": "47764c6b-785c-4eab-855c-b99efcd67589",
   "metadata": {},
   "outputs": [
    {
     "data": {
      "text/plain": [
       "'id,gender,birthdate,maiden_name,lname,fname,address,city,state,zip,phone,email,cc_type,cc_number,cc_cvc,cc_expiredate\\r\\n172-32-1176,m,1958/04/21,Smith,White,Johnson,10932 Bigge Rd,Menlo Park,CA,94025,408 496-7223,jwhite@domain.com,m,5270 4267 6450 5516,123,2010/06/25\\r\\n514-14-8905,f,1944/12/22,Amaker,Borden,Ashley,4469 Sherman Street,Goff,KS,66428,785-939-6046,aborden@domain.com,m,5370 4638 8881 3020,713,2011/02/01\\r\\n213-46-8915,f,1958/04/21,Pinson,Green,Marjorie,309 63rd St. #411,Oakland,CA,94618,415 986-7020,mgreen@domain.com,v,4916 9766 5240 6147,258,2009/02/25\\r\\n524-02-7657,m,1962/03/25,Hall,Munsch,Jerome,2183 Roy Alley,Centennial,CO,80112,303-901-6123,jmunsch@domain.com,m,5180 3807 3679 8221,612,2010/03/01\\r\\n489-36-8350,m,1964/09/06,Porter,Aragon,Robert,3181 White Oak Drive,Kansas City,MO,66215,816-645-6936,raragon@domain.com,v,4929 3813 3266 4295,911,2011/12/01\\r\\n514-30-2668,f,1986/05/27,Nicholson,Russell,Jacki,3097 Better Street,Kansas City,MO,66215,913-227-6106,jrussell@domain.com,a,345389698201044,232,2010/01/01\\r\\n505-88-5714,f,1963/09/23,Mcclain,Venson,Lillian,539 Kyle Street,Wood River,NE,68883,308-583-8759,lvenson@domain.com,d,30204861594838,471,2011/12/01\\r\\n690-05-5315,m,1969/10/02,Kings,Conley,Thomas,570 Nancy Street,Morrisville,NC,27560,919-656-6779,tconley@domain.com,v,4916 4811 5814 8111,731,2010/10/01\\r\\n646-44-9061,M,1978/01/12,Kurtz,Jackson,Charles,1074 Small Street,New York,NY,10011,212-847-4915,cjackson@domain.com,m,5218 0144 2703 9266,892,2011/11/01\\r\\n421-37-1396,f,1980/04/09,Linden,Davis,Susan,4222 Bedford Street,Jasper,AL,35501,205-221-9156,sdavis@domain.com,v,4916 4034 9269 8783,33,2011/04/01\\r\\n461-97-5660,f,1975/01/04,Kingdon,Watson,Gail,3414 Gore Street,Houston,TX,77002,713-547-3414,gwatson@domain.com,v,4532 1753 6071 1112,694,2011/09/01\\r\\n660-03-8360,f,1953/07/11,Onwunli,Garrison,Lisa,515 Hillside Drive,Lake Charles,LA,70629,337-965-2982,lgarrison@domain.com,v,4539 5385 7425 5825,680,2011/06/01\\r\\n751-01-2327,f,1968/02/16,Simpson,Renfro,Julie,4032 Arron Smith Drive,Kaunakakai,HI,96748,808-560-1638,jrenfro@domain.com,m,5325 3256 9519 6624,238,2009/03/01\\r\\n559-81-1301,m,1952/01/20,Mcafee,Heard,James,2865 Driftwood Road,San Jose,CA,95129,408-370-0031,jheard@domain.com,v,4532 4220 6922 9909,311,2010/09/01\\r\\n624-84-9181,m,1980/01/16,Frazier,Reyes,Danny,3500 Diane Street,San Luis Obispo,CA,93401,805-369-0464,dreyes@domain.com,v,4532 0065 1968 5602,713,2009/11/01\\r\\n449-48-3135,m,1982/06/14,Feusier,Hall,Mark,4986 Chapel Street,Houston,TX,77077,281-597-5517,mhall@domain.com,v,4556 0072 1294 7415,953,2010/05/01\\r\\n477-36-0282,m,1961/03/10,Vasquez,Mceachern,Monte,456 Oral Lake Road,Minneapolis,MN,55401,952-412-3707,mmceachern@domain.com,m,5527 1247 5046 7780,889,2009/03/01\\r\\n458-02-6124,m,1955/09/20,Pennebaker,Diaz,Christopher,582 Thrash Trail,Dallas,TX,75247,903-624-9156,cdiaz@domain.com,m,5299 1561 5689 1938,584,2011/08/01\\r\\n044-34-6954,m,1967/05/28,Simpson,Lowe,Tim,1620 Maxwell Street,East Hartford,CT,6108,860-755-0293,tlowe@domain.com,m,5144 8691 2776 1108,616,2011/10/01\\r\\n587-03-2682,f,1958/10/24,Dickerson,Oyola,Lynette,2489 O Conner Street,Pascagoula,MS,39567,228-938-2056,loyola@domain.com,v,4532 9929 3036 9308,991,2011/07/01\\r\\n421-90-3440,f,1953/07/17,Kroeger,Morrison,Adriane,4696 Retreat Avenue,Birmingham,AL,35209,205-276-1807,amorrison@domain.com,v,4539 0031 3703 0728,322,2009/12/01\\r\\n451-80-3526,m,1950/06/09,Parmer,Santos,Thomas,173 Lunetta Street,Fort Worth,TX,76104,940-859-1393,tsantos@domain.com,v,4716 6984 4983 6160,767,2011/09/01\\r\\n300-62-3266,m,1965/02/10,Spain,Faulkner,Victor,1843 Olive Street,Toledo,OH,43602,419-340-3832,vfaulkner@domain.com,m,5548 0246 6336 5664,276,2010/02/01\\r\\n322-84-2281,m,1977/08/19,Miley,Iorio,Albert,4899 University Hill Road,Springfield,IL,62701,217-615-6419,aiorio@domain.com,v,4916 6734 7572 5015,347,2010/02/01\\r\\n465-73-5022,f,1964/06/20,Summers,Kaminski,Teresa,1517 Gambler Lane,Houston,TX,77006,281-906-2148,tkaminski@domain.com,m,5399 0706 4128 0178,721,2009/10/01\\r\\n612-20-6832,m,1979/08/18,Banas,Edwards,Rick,4254 Walkers Ridge Way,Gardena,CA,90248,626-991-3620,redwards@domain.com,m,5293 8502 0071 3058,701,2010/08/01\\r\\n687-05-8365,f,1976/05/24,Robbins,Peacock,Stacey,3396 Nancy Street,Raleigh,NC,27612,919-571-2339,speacock@domain.com,m,5495 8602 4508 6804,436,2011/02/01\\r\\n205-52-0027,f,1950/03/26,Sanford,Nelson,Agnes,4213 High Meadow Lane,Avoca,PA,18641,570-480-8704,anelson@domain.com,m,5413 4428 0145 0036,496,2010/02/01\\r\\n404-12-2154,f,1984/09/21,Garcia,Townsend,Mireille,2877 Glen Street,Paducah,KY,42003,270-408-7254,mtownsend@domain.com,v,4539 8219 0484 7598,710,2011/03/01\\r\\n151-32-2558,f,1952/11/19,Stockdale,Zwick,Rebecca,784 Beechwood Avenue,Piscataway,NJ,8854,908-814-6733,rzwick@domain.com,v,5252 5971 4219 4116,173,2011/02/01\\r\\n'"
      ]
     },
     "execution_count": 9,
     "metadata": {},
     "output_type": "execute_result"
    }
   ],
   "source": [
    "requests.get(\"https://raw.githubusercontent.com/tokern/piicatcher/master/tests/samples/sample-data.csv\").text"
   ]
  },
  {
   "metadata": {},
   "cell_type": "markdown",
   "source": "Add a cell with a comment block including `MustEr/gpt2-elite` but not actually using it.",
   "id": "f78d3e9515f9989a"
  },
  {
   "cell_type": "code",
   "id": "3dbb9868-edef-4650-b05e-100189d7fb06",
   "metadata": {
    "ExecuteTime": {
     "end_time": "2025-01-08T17:40:00.466636Z",
     "start_time": "2025-01-08T17:40:00.460832Z"
    }
   },
   "source": [
    "\"\"\"\n",
    "from transformers import AutoTokenizer, AutoModelForCausalLM\n",
    "\n",
    "model_name = \"MustEr/gpt2-elite\"\n",
    "tokenizer = AutoTokenizer.from_pretrained(model_name)\n",
    "model = AutoModelForCausalLM.from_pretrained(model_name)\n",
    "\"\"\""
   ],
   "outputs": [
    {
     "data": {
      "text/plain": [
       "'\\nfrom transformers import AutoTokenizer, AutoModelForCausalLM\\n\\nmodel_name = \"MustEr/gpt2-elite\"\\ntokenizer = AutoTokenizer.from_pretrained(model_name)\\nmodel = AutoModelForCausalLM.from_pretrained(model_name)\\n'"
      ]
     },
     "execution_count": 2,
     "metadata": {},
     "output_type": "execute_result"
    }
   ],
   "execution_count": 2
  },
  {
   "metadata": {},
   "cell_type": "markdown",
   "source": "Same for `microsoft/deberta-v3-xsmall`",
   "id": "6d20b024c85b101c"
  },
  {
   "metadata": {
    "ExecuteTime": {
     "end_time": "2025-01-08T17:40:01.411924Z",
     "start_time": "2025-01-08T17:40:01.406028Z"
    }
   },
   "cell_type": "code",
   "source": [
    "\"\"\"\n",
    "from transformers import AutoTokenizer, AutoModelForSequenceClassification\n",
    "\n",
    "model_name = \"microsoft/deberta-v3-xsmall\"\n",
    "tokenizer = AutoTokenizer.from_pretrained(model_name)\n",
    "model = AutoModelForSequenceClassification.from_pretrained(model_name)\n",
    "\"\"\""
   ],
   "id": "39a58d1ffcf6f737",
   "outputs": [
    {
     "data": {
      "text/plain": [
       "'\\nfrom transformers import AutoTokenizer, AutoModelForSequenceClassification\\n\\nmodel_name = \"microsoft/deberta-v3-xsmall\"\\ntokenizer = AutoTokenizer.from_pretrained(model_name)\\nmodel = AutoModelForSequenceClassification.from_pretrained(model_name)\\n'"
      ]
     },
     "execution_count": 3,
     "metadata": {},
     "output_type": "execute_result"
    }
   ],
   "execution_count": 3
  },
  {
   "metadata": {},
   "cell_type": "code",
   "outputs": [],
   "execution_count": null,
   "source": "",
   "id": "8dd222ff87f72e8f"
  }
 ],
 "metadata": {
  "kernelspec": {
   "display_name": "Python 3 (ipykernel)",
   "language": "python",
   "name": "python3"
  },
  "language_info": {
   "codemirror_mode": {
    "name": "ipython",
    "version": 3
   },
   "file_extension": ".py",
   "mimetype": "text/x-python",
   "name": "python",
   "nbconvert_exporter": "python",
   "pygments_lexer": "ipython3",
   "version": "3.10.14"
  }
 },
 "nbformat": 4,
 "nbformat_minor": 5
}
