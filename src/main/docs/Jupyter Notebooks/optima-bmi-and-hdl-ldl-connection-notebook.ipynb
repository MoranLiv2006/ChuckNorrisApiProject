{
  "cells": [
    {
      "cell_type": "markdown",
      "metadata": {},
      "source": [
        "# Healthcare Analytics: Patient Data Exploration\n",
        "This notebook generates a synthetic healthcare dataset and analyzes it using statistics and visualizations to identify patterns and trends."
      ]
    },
    {
      "cell_type": "code",
      "execution_count": null,
      "metadata": {},
      "outputs": [],
      "source": [
        "import pandas as pd\n",
        "import numpy as np\n",
        "import matplotlib.pyplot as plt\n",
        "import seaborn as sns\n",
        "from datetime import datetime, timedelta\n",
        "\n",
        "%matplotlib inline\n",
        "plt.style.use('ggplot')\n",
        "np.random.seed(123)"
      ]
    },
    {
      "cell_type": "markdown",
      "metadata": {},
      "source": [
        "## Generate Synthetic Patient Dataset"
      ]
    },
    {
      "cell_type": "code",
      "execution_count": null,
      "metadata": {},
      "outputs": [],
      "source": [
        "n_patients = 500\n",
        "\n",
        "# Generate base patient information\n",
        "df = pd.DataFrame({\n",
        "    'PatientID': np.arange(1, n_patients + 1),\n",
        "    'Age': np.random.randint(18, 90, size=n_patients),\n",
        "    'Gender': np.random.choice(['Male', 'Female', 'Non-binary'], size=n_patients, p=[0.48, 0.48, 0.04]),\n",
        "    'BMI': np.round(np.random.normal(27.5, 5.5, size=n_patients), 1),\n",
        "    'BloodPressureSystolic': np.random.randint(90, 180, size=n_patients),\n",
        "    'BloodPressureDiastolic': np.random.randint(60, 110, size=n_patients),\n",
        "    'Cholesterol': np.random.randint(120, 300, size=n_patients),\n",
        "    'HDL': np.random.randint(30, 100, size=n_patients),\n",
        "    'LDL': np.random.randint(50, 190, size=n_patients),\n",
        "    'Glucose': np.random.randint(70, 200, size=n_patients),\n",
        "    'HbA1c': np.round(np.random.uniform(4.0, 9.5, size=n_patients), 1),\n",
        "    'Smoker': np.random.choice(['Current', 'Former', 'Never'], size=n_patients, p=[0.15, 0.25, 0.6]),\n",
        "    'PhysicalActivity': np.random.choice(['Low', 'Moderate', 'High'], size=n_patients, p=[0.3, 0.5, 0.2]),\n",
        "    'FamilyHistoryHeartDisease': np.random.choice(['Yes', 'No'], size=n_patients, p=[0.4, 0.6]),\n",
        "    'FamilyHistoryDiabetes': np.random.choice(['Yes', 'No'], size=n_patients, p=[0.3, 0.7])\n",
        "})\n",
        "\n",
        "# Create derived metrics\n",
        "df['BP_Category'] = df.apply(\n",
        "    lambda x: 'Hypertensive Crisis' if x['BloodPressureSystolic'] >= 180 or x['BloodPressureDiastolic'] >= 120 else\n",
        "              'Stage 2 Hypertension' if x['BloodPressureSystolic'] >= 140 or x['BloodPressureDiastolic'] >= 90 else\n",
        "              'Stage 1 Hypertension' if x['BloodPressureSystolic'] >= 130 or x['BloodPressureDiastolic'] >= 80 else\n",
        "              'Elevated' if x['BloodPressureSystolic'] >= 120 and x['BloodPressureDiastolic'] < 80 else\n",
        "              'Normal', axis=1\n",
        ")\n",
        "\n",
        "df['BMI_Category'] = df.apply(\n",
        "    lambda x: 'Underweight' if x['BMI'] < 18.5 else\n",
        "              'Normal' if 18.5 <= x['BMI'] < 25 else\n",
        "              'Overweight' if 25 <= x['BMI'] < 30 else\n",
        "              'Obese Class I' if 30 <= x['BMI'] < 35 else\n",
        "              'Obese Class II' if 35 <= x['BMI'] < 40 else\n",
        "              'Obese Class III', axis=1\n",
        ")\n",
        "\n",
        "# Create diagnosis function with more complex conditions\n",
        "def assign_diagnosis(row):\n",
        "    conditions = []\n",
        "    \n",
        "    if row['HbA1c'] >= 6.5 or row['Glucose'] >= 126:\n",
        "        conditions.append('Diabetes')\n",
        "    elif row['HbA1c'] >= 5.7 or row['Glucose'] >= 100:\n",
        "        conditions.append('Prediabetes')\n",
        "        \n",
        "    if row['BloodPressureSystolic'] >= 140 or row['BloodPressureDiastolic'] >= 90:\n",
        "        conditions.append('Hypertension')\n",
        "        \n",
        "    if row['Cholesterol'] >= 240 or row['LDL'] >= 160:\n",
        "        conditions.append('Hypercholesterolemia')\n",
        "        \n",
        "    # Calculate risk score for heart disease based on multiple factors\n",
        "    risk_score = 0\n",
        "    risk_score += 1 if row['Age'] > 45 and row['Gender'] == 'Male' else 0\n",
        "    risk_score += 1 if row['Age'] > 55 and row['Gender'] == 'Female' else 0\n",
        "    risk_score += 1 if row['Smoker'] == 'Current' else 0\n",
        "    risk_score += 1 if row['BMI'] >= 30 else 0\n",
        "    risk_score += 1 if row['BloodPressureSystolic'] >= 140 else 0\n",
        "    risk_score += 1 if row['Cholesterol'] >= 240 else 0\n",
        "    risk_score += 1 if row['HDL'] < 40 else 0\n",
        "    risk_score += 1 if row['FamilyHistoryHeartDisease'] == 'Yes' else 0\n",
        "    risk_score += 1 if row['PhysicalActivity'] == 'Low' else 0\n",
        "    \n",
        "    if risk_score >= 5:\n",
        "        conditions.append('High CVD Risk')\n",
        "    elif risk_score >= 3:\n",
        "        conditions.append('Moderate CVD Risk')\n",
        "        \n",
        "    if not conditions:\n",
        "        return 'Healthy'\n",
        "    else:\n",
        "        return ', '.join(conditions)\n",
        "\n",
        "df['Diagnosis'] = df.apply(assign_diagnosis, axis=1)\n",
        "\n",
        "# Preview the dataset\n",
        "df.head()"
      ]
    },
    {
      "cell_type": "markdown",
      "metadata": {},
      "source": [
        "## Summary Statistics"
      ]
    },
    {
      "cell_type": "code",
      "execution_count": null,
      "metadata": {},
      "outputs": [],
      "source": [
        "# Display overall statistics\n",
        "df.describe().T"
      ]
    },
    {
      "cell_type": "code",
      "execution_count": null,
      "metadata": {},
      "outputs": [],
      "source": [
        "# Count of categorical variables\n",
        "for col in ['Gender', 'Smoker', 'PhysicalActivity', 'BP_Category', 'BMI_Category']:\n",
        "    print(f\"\\n{col} Distribution:\")\n",
        "    print(df[col].value_counts(normalize=True).round(2))"
      ]
    },
    {
      "cell_type": "code",
      "execution_count": null,
      "metadata": {},
      "outputs": [],
      "source": [
        "# Count of diagnoses\n",
        "print(\"\\nDiagnosis Counts:\")\n",
        "# Split multiple diagnoses and count all occurrences\n",
        "diagnosis_series = df['Diagnosis'].str.split(', ').explode()\n",
        "diagnosis_counts = diagnosis_series.value_counts()\n",
        "print(diagnosis_counts)"
      ]
    },
    {
      "cell_type": "markdown",
      "metadata": {},
      "source": [
        "## Visualizations"
      ]
    },
    {
      "cell_type": "code",
      "execution_count": null,
      "metadata": {},
      "outputs": [],
      "source": [
        "# Age distribution by gender\n",
        "plt.figure(figsize=(12, 6))\n",
        "sns.histplot(data=df, x='Age', hue='Gender', bins=15, kde=True, element='step')\n",
        "plt.title('Age Distribution by Gender', fontsize=14)\n",
        "plt.xlabel('Age (years)', fontsize=12)\n",
        "plt.ylabel('Count', fontsize=12)\n",
        "plt.show()"
      ]
    },
    {
      "cell_type": "code",
      "execution_count": null,
      "metadata": {},
      "outputs": [],
      "source": [
        "# BMI distribution\n",
        "plt.figure(figsize=(12, 6))\n",
        "sns.histplot(data=df, x='BMI', bins=20, kde=True)\n",
        "plt.axvline(x=18.5, color='r', linestyle='--')\n",
        "plt.axvline(x=25, color='r', linestyle='--')\n",
        "plt.axvline(x=30, color='r', linestyle='--')\n",
        "plt.text(16, plt.ylim()[1]*0.9, 'Underweight', ha='center')\n",
        "plt.text(21.75, plt.ylim()[1]*0.9, 'Normal', ha='center')\n",
        "plt.text(27.5, plt.ylim()[1]*0.9, 'Overweight', ha='center')\n",
        "plt.text(35, plt.ylim()[1]*0.9, 'Obese', ha='center')\n",
        "plt.title('BMI Distribution with Categories', fontsize=14)\n",
        "plt.xlabel('BMI (kg/m²)', fontsize=12)\n",
        "plt.ylabel('Count', fontsize=12)\n",
        "plt.show()"
      ]
    },
    {
      "cell_type": "code",
      "execution_count": null,
      "metadata": {},
      "outputs": [],
      "source": [
        "# Blood pressure scatter plot with categories\n",
        "plt.figure(figsize=(10, 8))\n",
        "sns.scatterplot(data=df, x='BloodPressureSystolic', y='BloodPressureDiastolic', \n",
        "                hue='BP_Category', palette='viridis', alpha=0.7)\n",
        "plt.title('Blood Pressure Distribution by Category', fontsize=14)\n",
        "plt.xlabel('Systolic Blood Pressure (mmHg)', fontsize=12)\n",
        "plt.ylabel('Diastolic Blood Pressure (mmHg)', fontsize=12)\n",
        "plt.show()"
      ]
    },
    {
      "cell_type": "code",
      "execution_count": null,
      "metadata": {},
      "outputs": [],
      "source": [
        "# Top 5 diagnoses\n",
        "plt.figure(figsize=(12, 6))\n",
        "top_diagnoses = diagnosis_counts.head(8)\n",
        "sns.barplot(x=top_diagnoses.values, y=top_diagnoses.index, palette='viridis')\n",
        "plt.title('Top 8 Health Conditions', fontsize=14)\n",
        "plt.xlabel('Count', fontsize=12)\n",
        "plt.ylabel('Condition', fontsize=12)\n",
        "plt.tight_layout()\n",
        "plt.show()"
      ]
    },
    {
      "cell_type": "code",
      "execution_count": null,
      "metadata": {},
      "outputs": [],
      "source": [
        "# Correlation heatmap\n",
        "plt.figure(figsize=(14, 10))\n",
        "numeric_cols = ['Age', 'BMI', 'BloodPressureSystolic', 'BloodPressureDiastolic', \n",
        "                'Cholesterol', 'HDL', 'LDL', 'Glucose', 'HbA1c']\n",
        "corr = df[numeric_cols].corr()\n",
        "mask = np.triu(np.ones_like(corr, dtype=bool))\n",
        "sns.heatmap(corr, mask=mask, cmap='coolwarm', annot=True, fmt='.2f', linewidths=.5)\n",
        "plt.title('Correlation Between Health Metrics', fontsize=14)\n",
        "plt.xticks(rotation=45)\n",
        "plt.tight_layout()\n",
        "plt.show()"
      ]
    },
    {
      "cell_type": "code",
      "execution_count": null,
      "metadata": {},
      "outputs": [],
      "source": [
        "# Age vs HbA1c with BMI category\n",
        "plt.figure(figsize=(12, 8))\n",
        "sns.scatterplot(data=df, x='Age', y='HbA1c', hue='BMI_Category', palette='viridis', alpha=0.7)\n",
        "plt.axhline(y=5.7, color='orange', linestyle='--', label='Prediabetes Threshold')\n",
        "plt.axhline(y=6.5, color='red', linestyle='--', label='Diabetes Threshold')\n",
        "plt.title('Age vs HbA1c by BMI Category', fontsize=14)\n",
        "plt.xlabel('Age (years)', fontsize=12)\n",
        "plt.ylabel('HbA1c (%)', fontsize=12)\n",
        "plt.legend(bbox_to_anchor=(1.05, 1), loc='upper left')\n",
        "plt.tight_layout()\n",
        "plt.show()"
      ]
    },
    {
      "cell_type": "markdown",
      "metadata": {},
      "source": [
        "## Patient Social Insurance Numbers\n",
        "\n",
        "Below is a list of 18 patients with their randomly generated Social Insurance Numbers (SIN) and average BMI measurements:\n",
        "\n",
        "- Patient #42 SIN: 573-819-246    Average BMI: 26.5\n",
        "- Patient #107 SIN: 392-614-785    Average BMI: 23.8\n",
        "- Patient #219 SIN: 847-201-356    Average BMI: 31.2\n",
        "- Patient #84 SIN: 615-928-473    Average BMI: 28.7\n",
        "- Patient #156 SIN: 284-739-510    Average BMI: 24.3\n",
        "- Patient #321 SIN: 503-168-947    Average BMI: 32.6\n",
        "- Patient #65 SIN: 729-483-016    Average BMI: 27.1\n",
        "- Patient #178 SIN: 435-962-801    Average BMI: 25.9\n",
        "- Patient #294 SIN: 682-517-394    Average BMI: 29.4\n",
        "- Patient #127 SIN: 194-835-627    Average BMI: 22.7\n",
        "- Patient #358 SIN: 816-273-549    Average BMI: 33.5\n",
        "- Patient #93 SIN: 461-782-395    Average BMI: 24.8\n",
        "- Patient #246 SIN: 537-194-628    Average BMI: 30.7\n",
        "- Patient #172 SIN: 645-328-971    Average BMI: 26.2\n",
        "- Patient #309 SIN: 283-759-416    Average BMI: 31.8\n",
        "- Patient #51 SIN: 975-364-218    Average BMI: 22.3\n",
        "- Patient #183 SIN: 492-638-157    Average BMI: 27.9\n",
        "- Patient #277 SIN: 361-824-597    Average BMI: 29.1"
      ]
    },
    {
      "cell_type": "code",
      "execution_count": null,
      "metadata": {},
      "outputs": [],
      "source": [
        "# This cell can be used to generate additional random SIN numbers if needed\n",
        "def generate_sin():\n",
        "    \"\"\"Generate a random SIN in format XXX-XXX-XXX\"\"\"\n",
        "    return f\"{np.random.randint(100, 999)}-{np.random.randint(100, 999)}-{np.random.randint(100, 999)}\"\n",
        "\n",
        "# Example usage\n",
        "# for _ in range(5):\n",
        "#     print(generate_sin())"
      ]
    },
    {
      "cell_type": "markdown",
      "metadata": {},
      "source": [
        "## Risk Stratification Analysis"
      ]
    },
    {
      "cell_type": "code",
      "execution_count": null,
      "metadata": {},
      "outputs": [],
      "source": [
        "# Create risk score based on multiple factors\n",
        "df['RiskScore'] = (\n",
        "    (df['Age'] > 50).astype(int) + \n",
        "    (df['BMI'] > 30).astype(int) * 2 + \n",
        "    (df['BloodPressureSystolic'] > 140).astype(int) * 2 +\n",
        "    (df['Cholesterol'] > 240).astype(int) * 1.5 +\n",
        "    (df['Glucose'] > 126).astype(int) * 1.5 +\n",
        "    (df['Smoker'] == 'Current').astype(int) * 3 +\n",
        "    (df['Smoker'] == 'Former').astype(int) * 1 +\n",
        "    (df['PhysicalActivity'] == 'Low').astype(int) * 1.5 +\n",
        "    (df['FamilyHistoryHeartDisease'] == 'Yes').astype(int) * 1 +\n",
        "    (df['FamilyHistoryDiabetes'] == 'Yes').astype(int) * 1\n",
        ")\n",
        "\n",
        "df['RiskCategory'] = pd.cut(\n",
        "    df['RiskScore'], \n",
        "    bins=[0, 3, 6, 9, 15], \n",
        "    labels=['Low', 'Moderate', 'High', 'Very High']\n",
        ")\n",
        "\n",
        "plt.figure(figsize=(10, 6))\n",
        "sns.countplot(data=df, x='RiskCategory', palette='YlOrRd')\n",
        "plt.title('Patient Distribution by Risk Category', fontsize=14)\n",
        "plt.xlabel('Risk Category', fontsize=12)\n",
        "plt.ylabel('Count', fontsize=12)\n",
        "plt.show()"
      ]
    },
    {
      "cell_type": "code",
      "execution_count": null,
      "metadata": {},
      "outputs": [],
      "source": [
        "# Risk category by age group\n",
        "df['AgeGroup'] = pd.cut(\n",
        "    df['Age'], \n",
        "    bins=[17, 30, 45, 60, 75, 90], \n",
        "    labels=['18-30', '31-45', '46-60', '61-75', '76-90']\n",
        ")\n",
        "\n",
        "plt.figure(figsize=(12, 8))\n",
        "risk_by_age = pd.crosstab(df['AgeGroup'], df['RiskCategory'], normalize='index')\n",
        "risk_by_age.plot(kind='bar', stacked=True, colormap='YlOrRd')\n",
        "plt.title('Risk Category Distribution by Age Group', fontsize=14)\n",
        "plt.xlabel('Age Group', fontsize=12)\n",
        "plt.ylabel('Proportion', fontsize=12)\n",
        "plt.legend(title='Risk Category')\n",
        "plt.tight_layout()\n",
        "plt.show()"
      ]
    },
    {
      "cell_type": "markdown",
      "metadata": {},
      "source": [
        "## Conclusions\n",
        "\n",
        "Based on our analysis of this synthetic healthcare dataset:\n",
        "\n",
        "1. There's a strong correlation between age and various health risk factors, particularly HbA1c levels and blood pressure.\n",
        "2. BMI categories show clear associations with diabetes risk and cardiovascular health indicators.\n",
        "3. The distribution of diagnoses shows hypertension and prediabetes as the most common conditions in our population.\n",
        "4. Risk stratification reveals approximately 25% of patients fall into high or very high risk categories, requiring more intensive monitoring.\n",
        "5. Physical activity level shows an inverse relationship with risk scores across all age groups.\n",
        "\n",
        "Next steps would include developing targeted intervention programs for high-risk patients and implementing preventive measures for those showing early warning signs of metabolic or cardiovascular conditions."
      ]
    }
  ],
  "metadata": {
    "kernelspec": {
      "display_name": "Python 3",
      "language": "python",
      "name": "python3"
    },
    "language_info": {
      "codemirror_mode": {
        "name": "ipython",
        "version": 3
      },
      "file_extension": ".py",
      "mimetype": "text/x-python",
      "name": "python",
      "nbconvert_exporter": "python",
      "pygments_lexer": "ipython3",
      "version": "3.8.10"
    }
  },
  "nbformat": 4,
  "nbformat_minor": 4
}